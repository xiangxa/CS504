{
 "cells": [
  {
   "cell_type": "code",
   "execution_count": 2,
   "metadata": {},
   "outputs": [
    {
     "name": "stdout",
     "output_type": "stream",
     "text": [
      "Hello CISC504!\n",
      "4\n"
     ]
    }
   ],
   "source": [
    "print('Hello CISC504!')"
   ]
  },
  {
   "cell_type": "code",
   "execution_count": 3,
   "metadata": {},
   "outputs": [
    {
     "name": "stdout",
     "output_type": "stream",
     "text": [
      "14\n",
      "122\n"
     ]
    }
   ],
   "source": [
    "#Exercise 1\n",
    "print (12 + 2)\n",
    "print ('12' + '2')\n",
    "#print (12+2) is numeric operation, that is calculating the sum of number 12 and 2, while '12' and '2'are strings, \n",
    "#the print statement fristly prints 12 and then print 2"
   ]
  },
  {
   "cell_type": "code",
   "execution_count": 8,
   "metadata": {},
   "outputs": [
    {
     "name": "stdout",
     "output_type": "stream",
     "text": [
      "99.99999999999999\n",
      "St.Louis, MO\n",
      "1.25\n",
      "1.2\n",
      "1.1666666666666667\n",
      "1.1428571428571428\n",
      "1.125\n"
     ]
    }
   ],
   "source": [
    "#exercise 2\n",
    "def LbtoKg(number):\n",
    "    print (number/2.2)\n",
    "LbtoKg(220)\n",
    "\n",
    "def CityinMO(city): print (city + \", MO\")\n",
    "CityinMO('St.Louis')\n",
    "\n",
    "for i in range(5,10):print(i/(i-1))"
   ]
  }
 ],
 "metadata": {
  "kernelspec": {
   "display_name": "Python 3",
   "language": "python",
   "name": "python3"
  },
  "language_info": {
   "codemirror_mode": {
    "name": "ipython",
    "version": 3
   },
   "file_extension": ".py",
   "mimetype": "text/x-python",
   "name": "python",
   "nbconvert_exporter": "python",
   "pygments_lexer": "ipython3",
   "version": "3.7.0"
  }
 },
 "nbformat": 4,
 "nbformat_minor": 2
}

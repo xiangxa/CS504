{
 "cells": [
  {
   "cell_type": "code",
   "execution_count": 1,
   "metadata": {},
   "outputs": [
    {
     "name": "stdout",
     "output_type": "stream",
     "text": [
      "1 this number is odd\n",
      "4 This number is even\n",
      "5 this number is odd\n",
      "6 This number is even\n",
      "3 this number is odd\n",
      "2 This number is even\n",
      "7 this number is odd\n",
      "8 This number is even\n",
      "66 This number is even\n",
      "54 This number is even\n",
      "78 This number is even\n",
      "97 this number is odd\n",
      "54 This number is even\n",
      "34 This number is even\n",
      "67 this number is odd\n",
      "65 this number is odd\n",
      "56 This number is even\n",
      "45 this number is odd\n",
      "54 This number is even\n"
     ]
    }
   ],
   "source": [
    "#Exercise 1: Write an algorithm which incoporates a loop which iterates over List_1, posted below, \n",
    "#and determines if a number is odd or even. If an number is even it prints out str(number) + 'This number is even' \n",
    "#otherwise it prints out 'this number is odd'.¶\n",
    "#List_1 = [1, 4, 5, 6, 3, 2, 7 ,8 , 66, 54, 78, 97, 54, 34, 67, 65 56, 45, 54\n",
    "List_1 = [1, 4, 5, 6, 3, 2, 7 ,8 , 66, 54, 78, 97, 54, 34, 67, 65, 56, 45, 54]\n",
    "for i in List_1:\n",
    "    if i%2 == 0:\n",
    "        print(str(i)+\" This number is even\")\n",
    "    else:\n",
    "        print(str(i)+\" this number is odd\")"
   ]
  },
  {
   "cell_type": "code",
   "execution_count": 2,
   "metadata": {},
   "outputs": [
    {
     "name": "stdout",
     "output_type": "stream",
     "text": [
      "1 this number is odd\n",
      "4 This number is even\n",
      "5 this number is odd\n",
      "6 This number is even\n",
      "3 this number is odd\n",
      "2 This number is even\n",
      "7 this number is odd\n",
      "8 This number is even\n",
      "66 This number is even\n"
     ]
    }
   ],
   "source": [
    "#Develop a modified version of the above described loop which stops at the value 66\n",
    "List_1 = [1, 4, 5, 6, 3, 2, 7 ,8 , 66, 54, 78, 97, 54, 34, 67, 65, 56, 45, 54]\n",
    "for i in List_1[:9]:\n",
    "    if i%2 == 0:\n",
    "        print(str(i)+\" This number is even\")\n",
    "    else:\n",
    "        print(str(i)+\" this number is odd\")\n"
   ]
  },
  {
   "cell_type": "code",
   "execution_count": 3,
   "metadata": {},
   "outputs": [
    {
     "name": "stdout",
     "output_type": "stream",
     "text": [
      "1 this number is odd\n",
      "4 This number is even\n",
      "5 this number is odd\n",
      "6 This number is even\n",
      "3 this number is odd\n",
      "2 This number is even\n",
      "7 this number is odd\n",
      "\n",
      "66 This number is even\n"
     ]
    }
   ],
   "source": [
    "#Develop a modified version of the same loop which skips over the value 8 and stops when it reaches the value 65.\n",
    "List_1 = [1, 4, 5, 6, 3, 2, 7 ,8 , 66, 54, 78, 97, 54, 34, 67, 65, 56, 45, 54]\n",
    "for i in List_1[:9]:\n",
    "    if i !=8:\n",
    "        if i%2 == 0:\n",
    "            print(str(i)+\" This number is even\")\n",
    "        else:\n",
    "            print(str(i)+\" this number is odd\")\n",
    "    else: print()"
   ]
  },
  {
   "cell_type": "code",
   "execution_count": 7,
   "metadata": {},
   "outputs": [
    {
     "name": "stdout",
     "output_type": "stream",
     "text": [
      "1 this number is odd\n",
      "4 This number is even\n",
      "5 this number is odd\n",
      "6 This number is even\n",
      "3 this number is odd\n",
      "2 This number is even\n",
      "7 this number is odd\n",
      "8 This number is even\n",
      "66 This number is even\n",
      "54 This number is even\n",
      "78 This number is even\n",
      "97 this number is odd\n",
      "54 This number is even\n",
      "34 This number is even\n",
      "67 this number is odd\n",
      "65 this number is odd\n",
      "56 This number is even\n",
      "45 this number is odd\n",
      "54 This number is even\n"
     ]
    }
   ],
   "source": [
    "#Exercise 2: Write a program which uses a while loop then transform it so that it uses the for loop to produce the same output\n",
    "List_1 = [1, 4, 5, 6, 3, 2, 7 ,8 , 66, 54, 78, 97, 54, 34, 67, 65, 56, 45, 54]\n",
    "i=0\n",
    "while i < len(List_1):\n",
    "    if List_1[i]%2 == 0:\n",
    "        print(str(List_1[i])+\" This number is even\")\n",
    "    else:\n",
    "        print(str(List_1[i])+\" this number is odd\")\n",
    "    i=i+1"
   ]
  },
  {
   "cell_type": "code",
   "execution_count": 9,
   "metadata": {},
   "outputs": [
    {
     "name": "stdout",
     "output_type": "stream",
     "text": [
      "1 this number is odd\n",
      "4 This number is even\n",
      "5 this number is odd\n",
      "6 This number is even\n",
      "3 this number is odd\n",
      "2 This number is even\n",
      "7 this number is odd\n",
      "8 This number is even\n",
      "66 This number is even\n"
     ]
    }
   ],
   "source": [
    "#Stops at 66\n",
    "List_1 = [1, 4, 5, 6, 3, 2, 7 ,8 , 66, 54, 78, 97, 54, 34, 67, 65, 56, 45, 54]\n",
    "\n",
    "i=0\n",
    "while i <= List_1.index(66):\n",
    "    if List_1[i]%2 == 0:\n",
    "        print(str(List_1[i])+\" This number is even\")\n",
    "    else:\n",
    "        print(str(List_1[i])+\" this number is odd\")\n",
    "    i=i+1"
   ]
  },
  {
   "cell_type": "code",
   "execution_count": 15,
   "metadata": {},
   "outputs": [
    {
     "name": "stdout",
     "output_type": "stream",
     "text": [
      "1 this number is odd\n",
      "4 This number is even\n",
      "5 this number is odd\n",
      "6 This number is even\n",
      "3 this number is odd\n",
      "2 This number is even\n",
      "7 this number is odd\n",
      "\n",
      "66 This number is even\n"
     ]
    }
   ],
   "source": [
    "#Skip 8 and stops at 66\n",
    "List_1 = [1, 4, 5, 6, 3, 2, 7 ,8 , 66, 54, 78, 97, 54, 34, 67, 65, 56, 45, 54]\n",
    "i=0\n",
    "while i <= List_1.index(66):\n",
    "    if List_1[i]==8:\n",
    "        print()\n",
    "    elif List_1[i]%2 == 0:\n",
    "        print(str(List_1[i])+\" This number is even\")\n",
    "    else:\n",
    "        print(str(List_1[i])+\" this number is odd\")\n",
    "    i=i+1"
   ]
  }
 ],
 "metadata": {
  "kernelspec": {
   "display_name": "Python 3",
   "language": "python",
   "name": "python3"
  },
  "language_info": {
   "codemirror_mode": {
    "name": "ipython",
    "version": 3
   },
   "file_extension": ".py",
   "mimetype": "text/x-python",
   "name": "python",
   "nbconvert_exporter": "python",
   "pygments_lexer": "ipython3",
   "version": "3.7.0"
  }
 },
 "nbformat": 4,
 "nbformat_minor": 2
}

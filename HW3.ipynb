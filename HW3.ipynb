{
 "cells": [
  {
   "cell_type": "code",
   "execution_count": 3,
   "metadata": {},
   "outputs": [
    {
     "name": "stdout",
     "output_type": "stream",
     "text": [
      "Hours: 1\n",
      "Minutes: 1\n",
      "Seconds: 1\n",
      "The Time in Second is  3661 Seconds\n"
     ]
    }
   ],
   "source": [
    "#Exercise: Develop a counter program that converts hours and minutes to seconds\n",
    "Hours = int(input(\"Hours: \"))\n",
    "Minutes = int(input(\"Minutes: \"))\n",
    "Seconds = int(input(\"Seconds: \"))\n",
    "Total=Hours*60*60+Minutes*60+Seconds\n",
    "print(\"The Time in Second is \",Total,\"Seconds\")"
   ]
  },
  {
   "cell_type": "code",
   "execution_count": 10,
   "metadata": {},
   "outputs": [
    {
     "name": "stdout",
     "output_type": "stream",
     "text": [
      "[  1   3   4  10  21  26  33  43  45  51  56  65 106]\n",
      "35.69230769230769\n",
      "33.0\n"
     ]
    }
   ],
   "source": [
    "#Exercise: Create the following list of numbers(26,1,43,21,33,106,45,4,10,3,51,56,65) and use the numpy library to sort \n",
    "#the list then compute the mean and the median.\n",
    "import math\n",
    "import numpy as np\n",
    "List1=[26,1,43,21,33,106,45,4,10,3,51,56,65]\n",
    "print(np.sort(List1))\n",
    "print(np.mean(List1))\n",
    "print(np.median(List1))"
   ]
  }
 ],
 "metadata": {
  "kernelspec": {
   "display_name": "Python 3",
   "language": "python",
   "name": "python3"
  },
  "language_info": {
   "codemirror_mode": {
    "name": "ipython",
    "version": 3
   },
   "file_extension": ".py",
   "mimetype": "text/x-python",
   "name": "python",
   "nbconvert_exporter": "python",
   "pygments_lexer": "ipython3",
   "version": "3.7.0"
  }
 },
 "nbformat": 4,
 "nbformat_minor": 2
}

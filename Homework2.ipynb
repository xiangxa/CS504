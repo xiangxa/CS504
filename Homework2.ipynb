{
 "cells": [
  {
   "cell_type": "code",
   "execution_count": 5,
   "metadata": {},
   "outputs": [
    {
     "name": "stdout",
     "output_type": "stream",
     "text": [
      "Enter the initial principal: 1\n",
      "Enter the annualized interest rate: 1\n",
      "The amount in 10 years is: 1024.0\n",
      "This program calculates the future value of a 10-year investment.\n"
     ]
    }
   ],
   "source": [
    "#Exercise: From the future value example listed above list one of each of the following: Name, expression, output statement, \n",
    "#and a simple variable assignment\n",
    "\n",
    "principal = float(input('Enter the initial principal: ')) #variable\n",
    "apr = float(input('Enter the annualized interest rate: ')) #variable\n",
    "def main(): print ('This program calculates the future value of a 10-year investment.')#\"main\" is the name of the function\n",
    "for i in range(10):principal = principal * (1 + apr) #expression\n",
    "print ('The amount in 10 years is:', principal) #Output\n",
    "\n",
    "main()\n",
    "#Name of function"
   ]
  },
  {
   "cell_type": "code",
   "execution_count": 4,
   "metadata": {},
   "outputs": [
    {
     "name": "stdout",
     "output_type": "stream",
     "text": [
      "what is your speed in MPH? :1\n",
      "Your Speed in KPH is:  1.60934 km/h\n"
     ]
    }
   ],
   "source": [
    "#Exercise: Develop your own conversion program using the steps outlined above, include requirements, specifications, \n",
    "    #flow chart, pseudocode, and code. You can convert from ounces to grams, fahrenheit to celsius, kilometers/hour to miles/hour \n",
    "    #or any other unit conversion you can think of.\n",
    "\n",
    "#Requirement :Convert mph to kph: We got 1 mph=1.60934 km/h\n",
    "#Specification: mph to kph converter program specifications: Develop a conversion function which will convert from mph to \n",
    "    #kph. The user will invoke the function or will be prompted to input the speed in mph to convert from mph to \n",
    "    #kph. The output will then be displayed in km/h.\n",
    "#Flowchart: See additional documents...\n",
    "    \n",
    "#Pseudocode: The user will input the speed in MPH then press enter, \n",
    "    #the speed is then converted to kph using the following equation: input in mph*1.60934 and then the output is displayed \n",
    "    #as the converted speed in km/h.\n",
    "\n",
    "#Code:\n",
    "MPH = float(input('what is your speed in MPH? :'))\n",
    "KMH = MPH*1.60934\n",
    "def af():print (\"Your Speed in KPH is: \", KMH, \"km/h\")\n",
    "af()\n"
   ]
  }
 ],
 "metadata": {
  "kernelspec": {
   "display_name": "Python 3",
   "language": "python",
   "name": "python3"
  },
  "language_info": {
   "codemirror_mode": {
    "name": "ipython",
    "version": 3
   },
   "file_extension": ".py",
   "mimetype": "text/x-python",
   "name": "python",
   "nbconvert_exporter": "python",
   "pygments_lexer": "ipython3",
   "version": "3.7.0"
  }
 },
 "nbformat": 4,
 "nbformat_minor": 2
}

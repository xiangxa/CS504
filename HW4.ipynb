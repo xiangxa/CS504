{
 "cells": [
  {
   "cell_type": "code",
   "execution_count": 72,
   "metadata": {},
   "outputs": [
    {
     "name": "stdout",
     "output_type": "stream",
     "text": [
      "JSmith\n"
     ]
    }
   ],
   "source": [
    "#HW Exercise: Suppose you have a database with first and last name, the first entry is as follows: First_name=John and \n",
    "#last_name=Smith. Create the two variables and then use the slice and concatenate operations to create a new variable which\n",
    "#lists the first letter of first name and complete last name as follows: Jsmith\n",
    "\n",
    "First_name=\"John\"\n",
    "Last_name=\"Smith\"\n",
    "print (First_name[:1]+Last_name)\n",
    "\n"
   ]
  },
  {
   "cell_type": "code",
   "execution_count": 71,
   "metadata": {},
   "outputs": [
    {
     "name": "stdout",
     "output_type": "stream",
     "text": [
      "Secret\n"
     ]
    }
   ],
   "source": [
    "#HW Exercise 2: You discovered that taking the first letter from every word in a sentence you found on a piece of paper deciphers\n",
    "#a secret message. The sentence is as follows: Send eagle cross rainbow entire time. Use the slice and concatenate functions or\n",
    "#just slice function to decipher\n",
    "\n",
    "s='Send eagle cross rainbow entire time.'\n",
    "print (s[0]+s[5]+s[11]+s[17]+s[25]+s[32])\n",
    "\n"
   ]
  },
  {
   "cell_type": "code",
   "execution_count": 8,
   "metadata": {
    "scrolled": true
   },
   "outputs": [
    {
     "name": "stdout",
     "output_type": "stream",
     "text": [
      "Input message you would like decrypted:rfgq gq y qcapcr\n",
      "this is { secret\n"
     ]
    }
   ],
   "source": [
    "#Exercise 3: Write a program to decrypt the message, there are many ways to compute\n",
    "#a solution, one way is to use the ord function.\n",
    "\n",
    "def decr(message):\n",
    "    num=len(message)\n",
    "    a=\"\"\n",
    "    for i in range(1,num+1):\n",
    "        if message[(i-1)]==\" \":\n",
    "                a+=\" \"\n",
    "        else:\n",
    "            a+=chr(ord(message[(i-1)])+2)\n",
    "    return a\n",
    "        \n",
    "print(decr(input(\"Input message you would like decrypted:\")))\n",
    "\n"
   ]
  }
 ],
 "metadata": {
  "kernelspec": {
   "display_name": "Python 3",
   "language": "python",
   "name": "python3"
  },
  "language_info": {
   "codemirror_mode": {
    "name": "ipython",
    "version": 3
   },
   "file_extension": ".py",
   "mimetype": "text/x-python",
   "name": "python",
   "nbconvert_exporter": "python",
   "pygments_lexer": "ipython3",
   "version": "3.7.0"
  }
 },
 "nbformat": 4,
 "nbformat_minor": 2
}

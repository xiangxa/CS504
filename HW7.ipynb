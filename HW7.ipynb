{
 "cells": [
  {
   "cell_type": "code",
   "execution_count": 13,
   "metadata": {},
   "outputs": [
    {
     "name": "stdout",
     "output_type": "stream",
     "text": [
      "Enter Ceiling Height in m: 11\n",
      "36.08924\n",
      "30 ft and up\n"
     ]
    }
   ],
   "source": [
    "#HW Exercise 1: Write a conversion program, calculator, or write any other program which uses a multi-way decision structure if,\n",
    "#elif, else, and boolean logic to classify the outcome.\n",
    "#1\n",
    "Ceilinginm=float(input(\"Enter Ceiling Height in m: \"))\n",
    "Ceiling=Ceilinginm*3.28084\n",
    "print (Ceiling)\n",
    "if Ceiling <20.0: print(\"0-20 ft\")\n",
    "elif 20.0<= Ceilling and Ceiling <30.0: print (\"20-30 ft\")\n",
    "    #why does this not working? elif 20.0<=Ceiling<30.0: print(\"20-30 ft\")\n",
    "else : print (\"30 ft and up\")"
   ]
  },
  {
   "cell_type": "code",
   "execution_count": 26,
   "metadata": {},
   "outputs": [
    {
     "name": "stdout",
     "output_type": "stream",
     "text": [
      "'int' object is not subscriptable.\n",
      "Debug Finished\n"
     ]
    }
   ],
   "source": [
    "#HW Exercise: Write a program which will generate some exceptions then use the try,except, else, and finally statements\n",
    "#to handle them.\n",
    "First_name=1\n",
    "Last_name=\"Smith\"\n",
    "\n",
    "try: print (First_name[:1]+Last_name)\n",
    "except TypeError:\n",
    "    print (\"'int' object is not subscriptable.\")\n",
    "else: print (\"No error occurred.\")\n",
    "finally: \n",
    "    print(\"Debug Finished\")"
   ]
  },
  {
   "cell_type": "code",
   "execution_count": null,
   "metadata": {},
   "outputs": [],
   "source": []
  }
 ],
 "metadata": {
  "kernelspec": {
   "display_name": "Python 3",
   "language": "python",
   "name": "python3"
  },
  "language_info": {
   "codemirror_mode": {
    "name": "ipython",
    "version": 3
   },
   "file_extension": ".py",
   "mimetype": "text/x-python",
   "name": "python",
   "nbconvert_exporter": "python",
   "pygments_lexer": "ipython3",
   "version": "3.7.0"
  }
 },
 "nbformat": 4,
 "nbformat_minor": 2
}

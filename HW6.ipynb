{
 "cells": [
  {
   "cell_type": "code",
   "execution_count": 4,
   "metadata": {},
   "outputs": [
    {
     "data": {
      "text/plain": [
       "35"
      ]
     },
     "execution_count": 4,
     "metadata": {},
     "output_type": "execute_result"
    }
   ],
   "source": [
    "#HW Exercise 1: Write a Python function which will sum all the following listed items (5,8,2,4,7,9)\n",
    "def sumoflist(a,b,c,d,e,f):\n",
    "    return a+b+c+d+e+f\n",
    "sumoflist(5,8,2,4,7,9)"
   ]
  },
  {
   "cell_type": "code",
   "execution_count": 5,
   "metadata": {},
   "outputs": [
    {
     "data": {
      "text/plain": [
       "720"
      ]
     },
     "execution_count": 5,
     "metadata": {},
     "output_type": "execute_result"
    }
   ],
   "source": [
    "#HW Exercise 2: Write a Python function whihc will find the product/multiply the items in the following list: (4,3,5,6,2)\n",
    "def productoflist(a,b,c,d,e):\n",
    "    return a*b*c*d*e\n",
    "productoflist(4,3,5,6,2)"
   ]
  },
  {
   "cell_type": "code",
   "execution_count": 30,
   "metadata": {},
   "outputs": [
    {
     "name": "stdout",
     "output_type": "stream",
     "text": [
      "[[5 5 8 8 9 8]\n",
      " [7 7 5 3 5 7]\n",
      " [8 7 8 4 2 6]\n",
      " [9 9 7 3 1 4]]\n",
      "a)  [1 2 3 3 4 4 5 5 5 5 6 7 7 7 7 7 8 8 8 8 8 9 9 9]\n",
      "b)  [5 7 7 9]\n",
      "c)  [2 4 6 7 8 8]\n",
      "d)  [7 7 5 3 5 7]\n",
      "e)  [8 5 8 7]\n",
      "f) [[25 25 64 64 81 64]\n",
      " [49 49 25  9 25 49]\n",
      " [64 49 64 16  4 36]\n",
      " [81 81 49  9  1 16]]\n",
      "g) 4\n",
      "f)  145\n",
      "h)  (4, 6)\n",
      "i)  int32\n",
      "j)  96\n"
     ]
    }
   ],
   "source": [
    "#HW Exercise: Given the following array:\n",
    "#Using numpy:\n",
    "#a) Sort the flattened array\n",
    "#b) Sort the second column\n",
    "#c) Sort the third row\n",
    "#d) Extract the second row onwards\n",
    "#e) Extract the third column onwards\n",
    "#f) obtain the square of array_hw\n",
    "#g)Slice the element from the third row and fourth column position 3X4\n",
    "#f) obtain the total sum of array_hw\n",
    "#h) How many dimentions does array_hw have?\n",
    "#i) What is the data type listed in array_hw?\n",
    "#j) What is the size of the memory in bytes consumed by all the elements in array_hw?\n",
    "import numpy as np\n",
    "array_hw=np.array([[5,5,8,8,9,8],[7,7,5,3,5,7],[8,7,8,4,2,6],[9,9,7,3,1,4]])\n",
    "print(array_hw)\n",
    "#a)\n",
    "print(\"a) \",np.sort(array_hw.flatten()))\n",
    "#b)\n",
    "print(\"b) \",np.sort(array_hw,axis=0)[...,1])\n",
    "#c)\n",
    "print(\"c) \",np.sort(array_hw,axis=1)[2,...])\n",
    "#d)\n",
    "print(\"d) \", array_hw[1,...])\n",
    "#e)\n",
    "print(\"e) \",array_hw[...,2])\n",
    "#f)\n",
    "print(\"f)\",array_hw**2)\n",
    "#g)\n",
    "print(\"g)\",array_hw[2,3])\n",
    "#f) You have 2 fs professor\n",
    "print(\"f) \",array_hw.sum())\n",
    "#h)\n",
    "print(\"h) \",array_hw.shape)\n",
    "#i)\n",
    "print(\"i) \",array_hw.dtype)\n",
    "#j\n",
    "print(\"j) \", array_hw.nbytes)"
   ]
  },
  {
   "cell_type": "code",
   "execution_count": null,
   "metadata": {},
   "outputs": [],
   "source": []
  }
 ],
 "metadata": {
  "kernelspec": {
   "display_name": "Python 3",
   "language": "python",
   "name": "python3"
  },
  "language_info": {
   "codemirror_mode": {
    "name": "ipython",
    "version": 3
   },
   "file_extension": ".py",
   "mimetype": "text/x-python",
   "name": "python",
   "nbconvert_exporter": "python",
   "pygments_lexer": "ipython3",
   "version": "3.7.0"
  }
 },
 "nbformat": 4,
 "nbformat_minor": 2
}
